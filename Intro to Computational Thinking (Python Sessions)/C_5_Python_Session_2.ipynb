{
  "nbformat": 4,
  "nbformat_minor": 0,
  "metadata": {
    "colab": {
      "provenance": []
    },
    "kernelspec": {
      "name": "python3",
      "display_name": "Python 3"
    },
    "language_info": {
      "name": "python"
    }
  },
  "cells": [
    {
      "cell_type": "code",
      "source": [
        "# Scalar datatype : represent single value\n",
        "# 4 scalar datatypes : Integers, float, complex, boolean"
      ],
      "metadata": {
        "id": "FbX3J8h5T76u"
      },
      "execution_count": null,
      "outputs": []
    },
    {
      "cell_type": "code",
      "source": [
        "a = 45637\n",
        "z = 3 + 7j\n",
        "print(a)\n",
        "print(type(a))\n",
        "a =  3.14\n",
        "print(type(a))\n",
        "print(type(z))"
      ],
      "metadata": {
        "colab": {
          "base_uri": "https://localhost:8080/"
        },
        "id": "XC5M1mpBg_-g",
        "outputId": "faa01b7f-57b9-4ace-d6b0-c90253afb8d2"
      },
      "execution_count": null,
      "outputs": [
        {
          "output_type": "stream",
          "name": "stdout",
          "text": [
            "45637\n",
            "<class 'int'>\n",
            "<class 'float'>\n",
            "<class 'complex'>\n"
          ]
        }
      ]
    },
    {
      "cell_type": "code",
      "source": [
        "#operator precedence\n",
        "z = 2 + 3 * 4 ** 2 // 6\n",
        "print(z)"
      ],
      "metadata": {
        "colab": {
          "base_uri": "https://localhost:8080/"
        },
        "id": "BZNdj8WAhdbI",
        "outputId": "3fb0d6e3-6c9d-41aa-c59a-3cdb48d54290"
      },
      "execution_count": null,
      "outputs": [
        {
          "output_type": "stream",
          "name": "stdout",
          "text": [
            "10\n"
          ]
        }
      ]
    },
    {
      "cell_type": "code",
      "source": [
        "#Variable\n",
        "a = 10\n",
        "b = 20\n",
        "total = a + b\n",
        "print(total)\n",
        "print(f\"The sum of {a} and {b} is {total}\")"
      ],
      "metadata": {
        "colab": {
          "base_uri": "https://localhost:8080/"
        },
        "id": "nJewKnbaiYE7",
        "outputId": "abb03b8b-08b1-459b-d2f3-4dac60665aef"
      },
      "execution_count": null,
      "outputs": [
        {
          "output_type": "stream",
          "name": "stdout",
          "text": [
            "30\n",
            "The sum of 10 and 20 is 30\n"
          ]
        }
      ]
    },
    {
      "cell_type": "code",
      "source": [
        "a = 5\n",
        "b = 6\n",
        "c = -7\n",
        "\n",
        "x = (-b + (b * b - 4 * a *c) ** 0.5) / 2 * a\n",
        "y = (-b - (b * b - 4 * a *c) ** 0.5) / 2 * a\n",
        "\n",
        "print(x, y)\n",
        "print(f\"The two roots of {a}x^2 + {b}x {c} are {x} and {y}\")\n",
        "print(f\"The two roots of {a}x^2 + {b}x {c} are {x: .5} and {y: .5}\")"
      ],
      "metadata": {
        "colab": {
          "base_uri": "https://localhost:8080/"
        },
        "id": "UGZjGQERjzzb",
        "outputId": "d64dceac-63d0-434f-cc55-45e819259d82"
      },
      "execution_count": null,
      "outputs": [
        {
          "output_type": "stream",
          "name": "stdout",
          "text": [
            "18.166247903553998 -48.166247903553995\n",
            "The two roots of 5x^2 + 6x -7 are 18.166247903553998 and -48.166247903553995\n",
            "The two roots of 5x^2 + 6x -7 are  18.166 and -48.166\n"
          ]
        }
      ]
    },
    {
      "cell_type": "code",
      "source": [
        "round(23.675846, 3)"
      ],
      "metadata": {
        "colab": {
          "base_uri": "https://localhost:8080/"
        },
        "id": "m-LurGuYmKXB",
        "outputId": "2873f4da-e2ab-411e-fc6e-721b67776dbc"
      },
      "execution_count": null,
      "outputs": [
        {
          "output_type": "execute_result",
          "data": {
            "text/plain": [
              "23.676"
            ]
          },
          "metadata": {},
          "execution_count": 32
        }
      ]
    },
    {
      "cell_type": "code",
      "source": [
        "#Conditions - Simple if\n",
        "attendancePercentage = 95\n",
        "if attendancePercentage > 75:\n",
        "    print(\"Elligible for certificate\")"
      ],
      "metadata": {
        "colab": {
          "base_uri": "https://localhost:8080/"
        },
        "id": "Bo0DlCxFmoww",
        "outputId": "8870955e-e935-4600-9ca9-001b886b12be"
      },
      "execution_count": null,
      "outputs": [
        {
          "output_type": "stream",
          "name": "stdout",
          "text": [
            "Elligible for certificate\n"
          ]
        }
      ]
    },
    {
      "cell_type": "code",
      "source": [
        "#Conditions - Simple if-else\n",
        "attendancePercentage = 95\n",
        "if attendancePercentage > 75:\n",
        "    print(\"Elligible for certificate\")\n",
        "else:\n",
        "    print(\"Not elligible\")"
      ],
      "metadata": {
        "colab": {
          "base_uri": "https://localhost:8080/"
        },
        "id": "FVb9OBGYnwwM",
        "outputId": "17aab87a-e5ca-458a-a9f8-faa27534345c"
      },
      "execution_count": null,
      "outputs": [
        {
          "output_type": "stream",
          "name": "stdout",
          "text": [
            "Elligible for certificate\n"
          ]
        }
      ]
    },
    {
      "cell_type": "code",
      "source": [
        "#Example :Input: a, b , if a > b : a + 10, b + 30, return a + b otherwise a - 5, b - 7 , return a * b\n",
        "a = 67\n",
        "b = 45\n",
        "if a > b :\n",
        "    a += 10\n",
        "    b += 30\n",
        "    result = a + b\n",
        "else:\n",
        "    a -= 5\n",
        "    b -= 7\n",
        "    result = a * b\n",
        "print(result)"
      ],
      "metadata": {
        "colab": {
          "base_uri": "https://localhost:8080/"
        },
        "id": "76Fd0eWCpBTd",
        "outputId": "6c4be7a4-59d0-476a-feb8-23cb64e65ac6"
      },
      "execution_count": null,
      "outputs": [
        {
          "output_type": "stream",
          "name": "stdout",
          "text": [
            "152\n"
          ]
        }
      ]
    },
    {
      "cell_type": "code",
      "source": [
        "#Example :Input: a, b , if a > b : a + 10, b + 30, return a + b and a < b: a * 2, b / 2 , return a - b otherwise a - 5, b - 7 , return a * b\n",
        "#Else-if ladder\n",
        "a = 67\n",
        "b = 45\n",
        "if a > b :\n",
        "    a += 10\n",
        "    b += 30\n",
        "    result = a + b\n",
        "elif a < b :\n",
        "    a *= 2\n",
        "    b /= 2\n",
        "    result = a - b\n",
        "else:\n",
        "    a -= 5\n",
        "    b -= 7\n",
        "    result = a * b\n",
        "print(result)\n"
      ],
      "metadata": {
        "colab": {
          "base_uri": "https://localhost:8080/"
        },
        "id": "XAwHH5b5paue",
        "outputId": "3e8252a6-77ca-4897-f3ca-9b8dbf09fe40"
      },
      "execution_count": null,
      "outputs": [
        {
          "output_type": "stream",
          "name": "stdout",
          "text": [
            "152\n"
          ]
        }
      ]
    },
    {
      "cell_type": "code",
      "source": [
        "#Loop - while\n",
        "num = 1\n",
        "while num <= 10: # num < 11\n",
        "    print(num)\n",
        "    num += 1"
      ],
      "metadata": {
        "colab": {
          "base_uri": "https://localhost:8080/"
        },
        "id": "sHnBuFkzr5T9",
        "outputId": "8a4232c6-3f08-49da-d926-2b2fec377c21"
      },
      "execution_count": null,
      "outputs": [
        {
          "output_type": "stream",
          "name": "stdout",
          "text": [
            "1\n",
            "2\n",
            "3\n",
            "4\n",
            "5\n",
            "6\n",
            "7\n",
            "8\n",
            "9\n",
            "10\n"
          ]
        }
      ]
    },
    {
      "cell_type": "code",
      "source": [
        "num = 2\n",
        "while num <= 20:\n",
        "    print(num)\n",
        "    num += 2"
      ],
      "metadata": {
        "colab": {
          "base_uri": "https://localhost:8080/"
        },
        "id": "jiTnIJlGs0E_",
        "outputId": "d07e88f1-95f2-4ef3-ec19-b3b048cc31d4"
      },
      "execution_count": null,
      "outputs": [
        {
          "output_type": "stream",
          "name": "stdout",
          "text": [
            "2\n",
            "4\n",
            "6\n",
            "8\n",
            "10\n",
            "12\n",
            "14\n",
            "16\n",
            "18\n",
            "20\n"
          ]
        }
      ]
    },
    {
      "cell_type": "code",
      "source": [
        "#Logical operators : not, and, or\n",
        "# interview: 10 score >= 80, 12 score >= 75, current graduation score >= 80, must have knowledge of at least 2 programming languages\n",
        "tenth  = 89\n",
        "tweleveth = 88\n",
        "currentGrad = 90\n",
        "language_knowledge = 1\n",
        "if tenth >= 80 and tweleveth >= 75 and currentGrad >= 80 and language_knowledge >= 2:\n",
        "    print(\"Ellegible to apply\")\n",
        "else:\n",
        "    print(\"Not elligible\")"
      ],
      "metadata": {
        "colab": {
          "base_uri": "https://localhost:8080/"
        },
        "id": "JbVG5h97tD9_",
        "outputId": "79a6a7ee-d4bd-42e7-d8d3-13524473e1aa"
      },
      "execution_count": null,
      "outputs": [
        {
          "output_type": "stream",
          "name": "stdout",
          "text": [
            "Not elligible\n"
          ]
        }
      ]
    },
    {
      "cell_type": "code",
      "source": [
        "# interview: 10 score >= 80, 12 score >= 75, current graduation score >= 80, must have knowledge of at least 2 programming languages. you need to qualify one condition\n",
        "tenth  = 89\n",
        "tweleveth = 56\n",
        "currentGrad = 77\n",
        "language_knowledge = 1\n",
        "if tenth >= 80 or tweleveth >= 75 or currentGrad >= 80 or language_knowledge >= 2:\n",
        "    print(\"Ellegible to apply\")\n",
        "else:\n",
        "    print(\"Not elligible\")"
      ],
      "metadata": {
        "colab": {
          "base_uri": "https://localhost:8080/"
        },
        "id": "W7-wX3TtvxDG",
        "outputId": "94262d76-f595-4a45-94a1-dd9baccc3292"
      },
      "execution_count": null,
      "outputs": [
        {
          "output_type": "stream",
          "name": "stdout",
          "text": [
            "Ellegible to apply\n"
          ]
        }
      ]
    }
  ]
}