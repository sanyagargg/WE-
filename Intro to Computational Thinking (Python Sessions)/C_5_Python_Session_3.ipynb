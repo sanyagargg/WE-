{
  "nbformat": 4,
  "nbformat_minor": 0,
  "metadata": {
    "colab": {
      "provenance": []
    },
    "kernelspec": {
      "name": "python3",
      "display_name": "Python 3"
    },
    "language_info": {
      "name": "python"
    }
  },
  "cells": [
    {
      "cell_type": "markdown",
      "source": [
        "mark(percentage), mark < 40 => Fail,\n",
        "mark >= 40, pass, diplay the Grades.\n",
        "\n",
        "40 - 55  => D\n",
        "\n",
        "56 - 65  => C\n",
        "\n",
        "66 - 75  => B\n",
        "\n",
        "76 - 85  => A\n",
        "\n",
        "86 and above => A*"
      ],
      "metadata": {
        "id": "8l4a79C6KGD_"
      }
    },
    {
      "cell_type": "code",
      "execution_count": null,
      "metadata": {
        "colab": {
          "base_uri": "https://localhost:8080/"
        },
        "id": "1qmIM5NpGUJD",
        "outputId": "67106551-ad78-47f9-fcae-c0a0715d6b98"
      },
      "outputs": [
        {
          "output_type": "stream",
          "name": "stdout",
          "text": [
            "A\n"
          ]
        }
      ],
      "source": [
        "mark = 79\n",
        "if mark < 40:\n",
        "    print(\"Fail\")\n",
        "else:\n",
        "    if mark <= 55:\n",
        "        print(\"D\")\n",
        "    elif mark <= 65:\n",
        "        print(\"C\")\n",
        "    elif mark <= 75:\n",
        "        print(\"B\")\n",
        "    elif mark <= 85:\n",
        "        print(\"A\")\n",
        "    else:\n",
        "        print(\"A*\")\n"
      ]
    },
    {
      "cell_type": "code",
      "source": [
        "#num > 17 && num < 21\n",
        "num = 20\n",
        "17 < num < 21"
      ],
      "metadata": {
        "colab": {
          "base_uri": "https://localhost:8080/"
        },
        "id": "GmxfroISOMK2",
        "outputId": "cbf6b98f-1c98-4a9a-95d5-911e345a6afd"
      },
      "execution_count": null,
      "outputs": [
        {
          "output_type": "execute_result",
          "data": {
            "text/plain": [
              "True"
            ]
          },
          "metadata": {},
          "execution_count": 2
        }
      ]
    },
    {
      "cell_type": "code",
      "source": [
        "#Check if a string is lexicographically between two strings or not.\n",
        "#apple, string, cherry\n",
        "text = \"banana\"\n",
        "text1 = \"technology\"\n",
        "\"apple\" < text < \"cherry\""
      ],
      "metadata": {
        "colab": {
          "base_uri": "https://localhost:8080/"
        },
        "id": "KL_diukfO9xx",
        "outputId": "50cfb8a3-899c-4bd5-f810-0af983d134a9"
      },
      "execution_count": null,
      "outputs": [
        {
          "output_type": "execute_result",
          "data": {
            "text/plain": [
              "True"
            ]
          },
          "metadata": {},
          "execution_count": 4
        }
      ]
    },
    {
      "cell_type": "code",
      "source": [
        "\"apple\" < text1 < \"cherry\""
      ],
      "metadata": {
        "colab": {
          "base_uri": "https://localhost:8080/"
        },
        "id": "cAZn6a8gQFaM",
        "outputId": "e31cc562-93a1-4d3f-bde4-20851e2c8a47"
      },
      "execution_count": null,
      "outputs": [
        {
          "output_type": "execute_result",
          "data": {
            "text/plain": [
              "False"
            ]
          },
          "metadata": {},
          "execution_count": 6
        }
      ]
    },
    {
      "cell_type": "code",
      "source": [
        "#String\n",
        "text1 = \"Check if a string is lexicographically between two strings or not.\"\n",
        "text2 = \"ghfjn6877983101993@talent\"\n",
        "print(text1)\n",
        "print(text2)"
      ],
      "metadata": {
        "colab": {
          "base_uri": "https://localhost:8080/"
        },
        "id": "1-9HKXrhQLn5",
        "outputId": "e672da64-2a6d-47c3-9c06-fec090596a4d"
      },
      "execution_count": null,
      "outputs": [
        {
          "output_type": "stream",
          "name": "stdout",
          "text": [
            "Check if a string is lexicographically between two strings or not.\n",
            "ghfjn6877983101993@talent\n"
          ]
        }
      ]
    },
    {
      "cell_type": "code",
      "source": [
        "text = 'Check if a string is \"lexicographically\" between two strings or not.'\n",
        "print(text)"
      ],
      "metadata": {
        "colab": {
          "base_uri": "https://localhost:8080/"
        },
        "id": "FeL6Ry7IRGTC",
        "outputId": "a09a2e82-e178-4344-ee8d-625ac846d06d"
      },
      "execution_count": null,
      "outputs": [
        {
          "output_type": "stream",
          "name": "stdout",
          "text": [
            "Check if a string is \"lexicographically\" between two strings or not.\n"
          ]
        }
      ]
    },
    {
      "cell_type": "code",
      "source": [
        "text5 = \"My father's name is bikas\"\n",
        "print(text5)"
      ],
      "metadata": {
        "colab": {
          "base_uri": "https://localhost:8080/"
        },
        "id": "DikASfadR3MS",
        "outputId": "aefae3a7-5351-4f57-d067-3b375bff39e2"
      },
      "execution_count": null,
      "outputs": [
        {
          "output_type": "stream",
          "name": "stdout",
          "text": [
            "My father's name is bikas\n"
          ]
        }
      ]
    },
    {
      "cell_type": "code",
      "source": [
        "text6 = '''Check if a string is\n",
        "\"lexicographically\"\n",
        "between two strings\n",
        "or not.'''\n",
        "print(text6)"
      ],
      "metadata": {
        "colab": {
          "base_uri": "https://localhost:8080/"
        },
        "id": "SFWkwlrHSFDW",
        "outputId": "97fec8a4-2c23-44ff-9a09-939c93cea4d6"
      },
      "execution_count": null,
      "outputs": [
        {
          "output_type": "stream",
          "name": "stdout",
          "text": [
            "Check if a string is \n",
            "\"lexicographically\" \n",
            "between two strings \n",
            "or not.\n"
          ]
        }
      ]
    },
    {
      "cell_type": "code",
      "source": [
        "x = \"hello\"\n",
        "y = \"Everyone!\"\n",
        "print(x, y)\n",
        "print(x + ' ' + y)"
      ],
      "metadata": {
        "colab": {
          "base_uri": "https://localhost:8080/"
        },
        "id": "j4-pUTg4ShQ3",
        "outputId": "1f5360b5-6043-49b5-eb01-e9e55799f3dc"
      },
      "execution_count": null,
      "outputs": [
        {
          "output_type": "stream",
          "name": "stdout",
          "text": [
            "hello Everyone!\n",
            "hello Everyone!\n"
          ]
        }
      ]
    },
    {
      "cell_type": "code",
      "source": [
        "print( (x + ' ' + y + ' ') * 5)"
      ],
      "metadata": {
        "colab": {
          "base_uri": "https://localhost:8080/"
        },
        "id": "weKcaLCfTA3k",
        "outputId": "0f71b5af-acee-467a-d191-3bc9a028100a"
      },
      "execution_count": null,
      "outputs": [
        {
          "output_type": "stream",
          "name": "stdout",
          "text": [
            "hello Everyone! hello Everyone! hello Everyone! hello Everyone! hello Everyone! \n"
          ]
        }
      ]
    },
    {
      "cell_type": "code",
      "source": [
        "#check 'e' present in hello or not\n",
        "print('e' in x)"
      ],
      "metadata": {
        "colab": {
          "base_uri": "https://localhost:8080/"
        },
        "id": "b-Imx8VDTk8T",
        "outputId": "9e497842-be25-464b-9fd1-b0608ec3a6b5"
      },
      "execution_count": null,
      "outputs": [
        {
          "output_type": "stream",
          "name": "stdout",
          "text": [
            "True\n"
          ]
        }
      ]
    },
    {
      "cell_type": "code",
      "source": [
        "print(len(\"hello Everyone! hello Everyone! hello Everyone! hello Everyone! hello Everyone!\"))"
      ],
      "metadata": {
        "colab": {
          "base_uri": "https://localhost:8080/"
        },
        "id": "aYziyLHkT4R0",
        "outputId": "3f52763b-9438-4367-a920-ceda705e300a"
      },
      "execution_count": null,
      "outputs": [
        {
          "output_type": "stream",
          "name": "stdout",
          "text": [
            "79\n"
          ]
        }
      ]
    },
    {
      "cell_type": "code",
      "source": [
        "print(len(x))"
      ],
      "metadata": {
        "colab": {
          "base_uri": "https://localhost:8080/"
        },
        "id": "Q4lGATDUUXML",
        "outputId": "b9c1aa8e-0ae9-478d-f3fc-372e0cb4cb62"
      },
      "execution_count": null,
      "outputs": [
        {
          "output_type": "stream",
          "name": "stdout",
          "text": [
            "5\n"
          ]
        }
      ]
    }
  ]
}