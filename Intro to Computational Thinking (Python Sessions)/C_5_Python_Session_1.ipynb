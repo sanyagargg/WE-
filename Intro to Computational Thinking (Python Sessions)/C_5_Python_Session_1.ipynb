{
  "nbformat": 4,
  "nbformat_minor": 0,
  "metadata": {
    "colab": {
      "provenance": []
    },
    "kernelspec": {
      "name": "python3",
      "display_name": "Python 3"
    },
    "language_info": {
      "name": "python"
    }
  },
  "cells": [
    {
      "cell_type": "code",
      "execution_count": null,
      "metadata": {
        "colab": {
          "base_uri": "https://localhost:8080/"
        },
        "id": "W0m2MdRXUB3w",
        "outputId": "9f035a4f-720d-4a34-adb0-b5a38ee6e0a2"
      },
      "outputs": [
        {
          "output_type": "stream",
          "name": "stdout",
          "text": [
            "Hello Python\n"
          ]
        }
      ],
      "source": [
        "print(\"Hello Python\")"
      ]
    },
    {
      "cell_type": "code",
      "source": [
        "print(\"Happy new year 2024\")"
      ],
      "metadata": {
        "colab": {
          "base_uri": "https://localhost:8080/"
        },
        "id": "FoVhgtzHUc25",
        "outputId": "b5e372b6-8950-435f-d05c-4e929662daef"
      },
      "execution_count": null,
      "outputs": [
        {
          "output_type": "stream",
          "name": "stdout",
          "text": [
            "Happy new year 2024\n"
          ]
        }
      ]
    },
    {
      "cell_type": "code",
      "source": [
        "print(4 + 8)\n",
        "print(34 + 56)\n",
        "print(34 - 56)\n",
        "print(4 * 7)\n",
        "print(8 * 10)"
      ],
      "metadata": {
        "colab": {
          "base_uri": "https://localhost:8080/"
        },
        "id": "kVmTdzGMUr9x",
        "outputId": "2316484e-42ef-46a9-efac-ef1b13475910"
      },
      "execution_count": null,
      "outputs": [
        {
          "output_type": "stream",
          "name": "stdout",
          "text": [
            "12\n",
            "90\n",
            "-22\n",
            "28\n",
            "80\n"
          ]
        }
      ]
    },
    {
      "cell_type": "code",
      "source": [
        "print(11 / 2) #float divison\n",
        "print(11 // 2) #integer divison"
      ],
      "metadata": {
        "colab": {
          "base_uri": "https://localhost:8080/"
        },
        "id": "LHcvR2xUVcMp",
        "outputId": "58b3d33c-a398-4712-ccf3-04c7807fd7db"
      },
      "execution_count": null,
      "outputs": [
        {
          "output_type": "stream",
          "name": "stdout",
          "text": [
            "5.5\n",
            "5\n"
          ]
        }
      ]
    },
    {
      "cell_type": "code",
      "source": [
        "print(11 % 2)\n",
        "print(76 % 5)"
      ],
      "metadata": {
        "colab": {
          "base_uri": "https://localhost:8080/"
        },
        "id": "e3DBN4iyV9Sw",
        "outputId": "5cbc27e8-007f-4e83-8353-8aa48ff9b2d5"
      },
      "execution_count": null,
      "outputs": [
        {
          "output_type": "stream",
          "name": "stdout",
          "text": [
            "1\n",
            "1\n"
          ]
        }
      ]
    },
    {
      "cell_type": "code",
      "source": [
        "print(-3 * 5)"
      ],
      "metadata": {
        "colab": {
          "base_uri": "https://localhost:8080/"
        },
        "id": "VP9ZGeTEW_RT",
        "outputId": "87525569-4e81-4abe-b31b-9d63b1a72424"
      },
      "execution_count": null,
      "outputs": [
        {
          "output_type": "stream",
          "name": "stdout",
          "text": [
            "-15\n"
          ]
        }
      ]
    },
    {
      "cell_type": "code",
      "source": [
        "print(3 ** 5)\n",
        "print(10 ** 4)"
      ],
      "metadata": {
        "colab": {
          "base_uri": "https://localhost:8080/"
        },
        "id": "9FBbNwZnXLrT",
        "outputId": "6379d999-5e9e-4d4a-de75-54a15c62f9ac"
      },
      "execution_count": null,
      "outputs": [
        {
          "output_type": "stream",
          "name": "stdout",
          "text": [
            "243\n",
            "10000\n"
          ]
        }
      ]
    },
    {
      "cell_type": "code",
      "source": [
        "print(-13 / 5)"
      ],
      "metadata": {
        "colab": {
          "base_uri": "https://localhost:8080/"
        },
        "id": "RCLBOy2paGqQ",
        "outputId": "7794c9a5-46a8-426c-d55d-ab601da9ecb0"
      },
      "execution_count": null,
      "outputs": [
        {
          "output_type": "stream",
          "name": "stdout",
          "text": [
            "-2.6\n"
          ]
        }
      ]
    },
    {
      "cell_type": "code",
      "source": [
        "print(-13 % 5)"
      ],
      "metadata": {
        "colab": {
          "base_uri": "https://localhost:8080/"
        },
        "id": "zv2KwvSoXhxI",
        "outputId": "d5e755d8-e4b4-4c5a-df25-f8f4c886725f"
      },
      "execution_count": null,
      "outputs": [
        {
          "output_type": "stream",
          "name": "stdout",
          "text": [
            "2\n"
          ]
        }
      ]
    },
    {
      "cell_type": "code",
      "source": [
        "print(13 % -5)"
      ],
      "metadata": {
        "colab": {
          "base_uri": "https://localhost:8080/"
        },
        "id": "EElgOACBYgEK",
        "outputId": "5c82d749-1b11-4df0-f067-9421d5fc326e"
      },
      "execution_count": null,
      "outputs": [
        {
          "output_type": "stream",
          "name": "stdout",
          "text": [
            "-2\n"
          ]
        }
      ]
    },
    {
      "cell_type": "code",
      "source": [
        "#operator precedence\n",
        "print(10 ** 2 * 7 - 3)\n",
        "print(10 ** (2 * 7) - 3)\n",
        "print(10 ** ((2 * 7) - 3))"
      ],
      "metadata": {
        "colab": {
          "base_uri": "https://localhost:8080/"
        },
        "id": "cJ8COwvrZ0ay",
        "outputId": "a304ee72-cf2d-4d05-ab3e-c65f3f6b1380"
      },
      "execution_count": null,
      "outputs": [
        {
          "output_type": "stream",
          "name": "stdout",
          "text": [
            "697\n",
            "99999999999997\n",
            "100000000000\n"
          ]
        }
      ]
    },
    {
      "cell_type": "code",
      "source": [
        "a = 4557698\n",
        "b = a ** 7\n",
        "print(b)\n",
        "c = a ** 11\n",
        "print(c)\n",
        "d = a ** 156\n",
        "print(d)"
      ],
      "metadata": {
        "colab": {
          "base_uri": "https://localhost:8080/"
        },
        "id": "IMUopN-1bES6",
        "outputId": "1b5a8684-7727-4559-ab7f-21b4f567a25f"
      },
      "execution_count": null,
      "outputs": [
        {
          "output_type": "stream",
          "name": "stdout",
          "text": [
            "40852516445608662213201924050276441945638969472\n",
            "17627916823091206957289948412055410740575240114641978961946854380451530752\n",
            "5811724067892629381107179727336656856052063576861836316108161510795456828858423179003139517173439001753055827162766613616494673046452653746752895540809174162932333690585976809105441070496354533162050413484826188380172831967343268351950819699752411914528066889033038269980208826642638735046995796449717281426433240093447080348589840460458451627187791477201335501736315023897052030482814658134794748994955791898139744123442299206382588324008553074902737158161490254612151373866840340713945306396824711968773443494344416491758736608065010511504496428007444547926954393664920265375229570167185628837866480345174753983488201125043475841083929148047178427716139206440737743692914530121627477395250273847979508120814212123122833068371159562900504794926592854732731203089589399840051876337004322087131453860507958840186144010106271044532770746345660251957423262523611398089909985835301516478709030155648581616548212141369187514401160949626871061764495770229703089975656334043596578409795986013022221468580440622850662889798992456071592690199822336\n"
          ]
        }
      ]
    },
    {
      "cell_type": "code",
      "source": [
        "a = 10\n",
        "b = 5\n",
        "print(a, b)\n",
        "a += b\n",
        "print(a, b)\n",
        "a *= b\n",
        "print(a, b)"
      ],
      "metadata": {
        "colab": {
          "base_uri": "https://localhost:8080/"
        },
        "id": "aGbIHeVZbtKZ",
        "outputId": "5e9bbc67-5ea0-4bf9-d28a-fa68bb9dfbb5"
      },
      "execution_count": null,
      "outputs": [
        {
          "output_type": "stream",
          "name": "stdout",
          "text": [
            "10 5\n",
            "15 5\n",
            "75 5\n"
          ]
        }
      ]
    },
    {
      "cell_type": "code",
      "source": [
        "x = 10\n",
        "x += 1\n",
        "print(x)"
      ],
      "metadata": {
        "colab": {
          "base_uri": "https://localhost:8080/"
        },
        "id": "5WHiTcHsdD2J",
        "outputId": "2ee044ea-d920-48c6-adac-204e356c0e36"
      },
      "execution_count": null,
      "outputs": [
        {
          "output_type": "stream",
          "name": "stdout",
          "text": [
            "11\n"
          ]
        }
      ]
    },
    {
      "cell_type": "code",
      "source": [
        "a = 45\n",
        "b = 89\n",
        "print(a == b, a == b - 10, a + 24 == b, a < b, a > b , a >= b)"
      ],
      "metadata": {
        "colab": {
          "base_uri": "https://localhost:8080/"
        },
        "id": "QMhrfB2_eRx1",
        "outputId": "3af13159-4f8d-4bee-fbed-3787a45e611d"
      },
      "execution_count": null,
      "outputs": [
        {
          "output_type": "stream",
          "name": "stdout",
          "text": [
            "False False False True False False\n"
          ]
        }
      ]
    },
    {
      "cell_type": "code",
      "source": [
        "a < b < 90"
      ],
      "metadata": {
        "colab": {
          "base_uri": "https://localhost:8080/"
        },
        "id": "G0ePZboBfXvW",
        "outputId": "4ab6d497-95cf-4bd7-bab4-abf1640b402b"
      },
      "execution_count": null,
      "outputs": [
        {
          "output_type": "execute_result",
          "data": {
            "text/plain": [
              "True"
            ]
          },
          "metadata": {},
          "execution_count": 32
        }
      ]
    },
    {
      "cell_type": "code",
      "source": [
        "a < b < 78"
      ],
      "metadata": {
        "colab": {
          "base_uri": "https://localhost:8080/"
        },
        "id": "WxPppBgTgJFy",
        "outputId": "a3b10a72-f346-4e4e-e64b-52b091fd7317"
      },
      "execution_count": null,
      "outputs": [
        {
          "output_type": "execute_result",
          "data": {
            "text/plain": [
              "False"
            ]
          },
          "metadata": {},
          "execution_count": 33
        }
      ]
    },
    {
      "cell_type": "code",
      "source": [
        "a = 14.98\n",
        "b = 20.99\n",
        "c = a + b\n",
        "print(c)\n",
        "d = a - b\n",
        "print(d)\n",
        "e = a * b\n",
        "print(e)\n",
        "f = a / b\n",
        "print(f)"
      ],
      "metadata": {
        "colab": {
          "base_uri": "https://localhost:8080/"
        },
        "id": "9sOsUL-4gRn_",
        "outputId": "f4f434d5-dda2-485a-b288-b61a09396fc1"
      },
      "execution_count": null,
      "outputs": [
        {
          "output_type": "stream",
          "name": "stdout",
          "text": [
            "35.97\n",
            "-6.009999999999998\n",
            "314.4302\n",
            "0.7136731777036684\n"
          ]
        }
      ]
    },
    {
      "cell_type": "code",
      "source": [
        "print(2/6)\n",
        "print(2/3)"
      ],
      "metadata": {
        "colab": {
          "base_uri": "https://localhost:8080/"
        },
        "id": "-28UaT_ug86r",
        "outputId": "73cc3aec-19e7-479c-cf0f-5baebe626626"
      },
      "execution_count": null,
      "outputs": [
        {
          "output_type": "stream",
          "name": "stdout",
          "text": [
            "0.3333333333333333\n",
            "0.6666666666666666\n"
          ]
        }
      ]
    },
    {
      "cell_type": "code",
      "source": [
        "print(12.9 * 3.6 == 46.44)"
      ],
      "metadata": {
        "colab": {
          "base_uri": "https://localhost:8080/"
        },
        "id": "ZTc0zIMiheyP",
        "outputId": "5ee56531-4a2f-4070-d9d7-7050394d23e4"
      },
      "execution_count": null,
      "outputs": [
        {
          "output_type": "stream",
          "name": "stdout",
          "text": [
            "False\n"
          ]
        }
      ]
    },
    {
      "cell_type": "code",
      "source": [
        "print(12.9 * 3.6 - 46.44)"
      ],
      "metadata": {
        "colab": {
          "base_uri": "https://localhost:8080/"
        },
        "id": "gCPgi2UYiMjK",
        "outputId": "d4d9de1f-e480-4ce0-ed33-c9335f78a501"
      },
      "execution_count": null,
      "outputs": [
        {
          "output_type": "stream",
          "name": "stdout",
          "text": [
            "7.105427357601002e-15\n"
          ]
        }
      ]
    },
    {
      "cell_type": "code",
      "source": [
        "print(abs(12.9 * 3.6 - 46.44) <= 0.0000001)"
      ],
      "metadata": {
        "colab": {
          "base_uri": "https://localhost:8080/"
        },
        "id": "PygiHDSHkA2W",
        "outputId": "ca9cfced-0185-4bd4-ac5f-d183ea5c6ba9"
      },
      "execution_count": null,
      "outputs": [
        {
          "output_type": "stream",
          "name": "stdout",
          "text": [
            "True\n"
          ]
        }
      ]
    },
    {
      "cell_type": "code",
      "source": [
        "2.5 * 4.0 == 10"
      ],
      "metadata": {
        "colab": {
          "base_uri": "https://localhost:8080/"
        },
        "id": "XlqyqGGCkmV-",
        "outputId": "35414e80-b340-414f-ab12-6f988eae814c"
      },
      "execution_count": null,
      "outputs": [
        {
          "output_type": "execute_result",
          "data": {
            "text/plain": [
              "True"
            ]
          },
          "metadata": {},
          "execution_count": 43
        }
      ]
    },
    {
      "cell_type": "code",
      "source": [
        "z = 2 - 3j\n",
        "print(z)\n",
        "print(z.real)\n",
        "print(z.imag)\n",
        "print(abs(z))"
      ],
      "metadata": {
        "colab": {
          "base_uri": "https://localhost:8080/"
        },
        "id": "VaAFMCO3lmyY",
        "outputId": "d151ed8e-a608-458e-bb6f-f49a81be1871"
      },
      "execution_count": null,
      "outputs": [
        {
          "output_type": "stream",
          "name": "stdout",
          "text": [
            "(2-3j)\n",
            "2.0\n",
            "-3.0\n",
            "3.605551275463989\n"
          ]
        }
      ]
    },
    {
      "cell_type": "code",
      "source": [
        "x = 6 + 12j\n",
        "print(z + x)\n",
        "print(z - x)\n",
        "print(z * x)\n",
        "print(z / x)"
      ],
      "metadata": {
        "colab": {
          "base_uri": "https://localhost:8080/"
        },
        "id": "Gq1tG6Tjl9k3",
        "outputId": "9cd3f2f6-2424-4b6f-cf88-1a1d9e08c70a"
      },
      "execution_count": null,
      "outputs": [
        {
          "output_type": "stream",
          "name": "stdout",
          "text": [
            "(8+9j)\n",
            "(-4-15j)\n",
            "(48+6j)\n",
            "(-0.13333333333333333-0.23333333333333334j)\n"
          ]
        }
      ]
    }
  ]
}