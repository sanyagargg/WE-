{
  "nbformat": 4,
  "nbformat_minor": 0,
  "metadata": {
    "colab": {
      "provenance": []
    },
    "kernelspec": {
      "name": "python3",
      "display_name": "Python 3"
    },
    "language_info": {
      "name": "python"
    }
  },
  "cells": [
    {
      "cell_type": "markdown",
      "source": [
        "#Functions\n",
        "\n",
        "##def keyword"
      ],
      "metadata": {
        "id": "pvo2dweHetI8"
      }
    },
    {
      "cell_type": "code",
      "execution_count": null,
      "metadata": {
        "colab": {
          "base_uri": "https://localhost:8080/"
        },
        "id": "n-WUb6oEeG0b",
        "outputId": "4e15fed2-2e57-4e55-c873-2471efe7f237"
      },
      "outputs": [
        {
          "output_type": "stream",
          "name": "stdout",
          "text": [
            "112\n"
          ]
        }
      ],
      "source": [
        "#add two numbers\n",
        "def total(x, y):\n",
        "    return x + y\n",
        "\n",
        "print(total(34, 78))"
      ]
    },
    {
      "cell_type": "code",
      "source": [
        "#Square of a number\n",
        "def square(number):\n",
        "    return number * number"
      ],
      "metadata": {
        "id": "7If7jQjGf0NF"
      },
      "execution_count": null,
      "outputs": []
    },
    {
      "cell_type": "code",
      "source": [
        "square(5)"
      ],
      "metadata": {
        "colab": {
          "base_uri": "https://localhost:8080/"
        },
        "id": "xRr5ZLQEgPcy",
        "outputId": "32f71fbe-7e84-486e-880f-f4dd17fb367b"
      },
      "execution_count": null,
      "outputs": [
        {
          "output_type": "execute_result",
          "data": {
            "text/plain": [
              "25"
            ]
          },
          "metadata": {},
          "execution_count": 5
        }
      ]
    },
    {
      "cell_type": "code",
      "source": [
        "square(7.8)"
      ],
      "metadata": {
        "colab": {
          "base_uri": "https://localhost:8080/"
        },
        "id": "r_yAiAWNgTAq",
        "outputId": "03467acf-c6dc-4a15-86f3-85b4d90f1815"
      },
      "execution_count": null,
      "outputs": [
        {
          "output_type": "execute_result",
          "data": {
            "text/plain": [
              "60.839999999999996"
            ]
          },
          "metadata": {},
          "execution_count": 7
        }
      ]
    },
    {
      "cell_type": "code",
      "source": [
        "square(7j)"
      ],
      "metadata": {
        "colab": {
          "base_uri": "https://localhost:8080/"
        },
        "id": "BxN0EpMZgX0Z",
        "outputId": "95213d38-d4e3-4d29-dddf-c32530c66fa4"
      },
      "execution_count": null,
      "outputs": [
        {
          "output_type": "execute_result",
          "data": {
            "text/plain": [
              "(-49+0j)"
            ]
          },
          "metadata": {},
          "execution_count": 8
        }
      ]
    },
    {
      "cell_type": "code",
      "source": [
        "square(\"Hello\")"
      ],
      "metadata": {
        "colab": {
          "base_uri": "https://localhost:8080/",
          "height": 253
        },
        "id": "YmwNXxmFghGA",
        "outputId": "be911f97-f3a9-4cf8-9ea8-01eb97e3b281"
      },
      "execution_count": null,
      "outputs": [
        {
          "output_type": "error",
          "ename": "TypeError",
          "evalue": "ignored",
          "traceback": [
            "\u001b[0;31m---------------------------------------------------------------------------\u001b[0m",
            "\u001b[0;31mTypeError\u001b[0m                                 Traceback (most recent call last)",
            "\u001b[0;32m<ipython-input-9-ca831989f107>\u001b[0m in \u001b[0;36m<cell line: 1>\u001b[0;34m()\u001b[0m\n\u001b[0;32m----> 1\u001b[0;31m \u001b[0msquare\u001b[0m\u001b[0;34m(\u001b[0m\u001b[0;34m\"Hello\"\u001b[0m\u001b[0;34m)\u001b[0m\u001b[0;34m\u001b[0m\u001b[0;34m\u001b[0m\u001b[0m\n\u001b[0m",
            "\u001b[0;32m<ipython-input-4-640873baa51c>\u001b[0m in \u001b[0;36msquare\u001b[0;34m(number)\u001b[0m\n\u001b[1;32m      1\u001b[0m \u001b[0;31m#Square of a number\u001b[0m\u001b[0;34m\u001b[0m\u001b[0;34m\u001b[0m\u001b[0m\n\u001b[1;32m      2\u001b[0m \u001b[0;32mdef\u001b[0m \u001b[0msquare\u001b[0m\u001b[0;34m(\u001b[0m\u001b[0mnumber\u001b[0m\u001b[0;34m)\u001b[0m\u001b[0;34m:\u001b[0m\u001b[0;34m\u001b[0m\u001b[0;34m\u001b[0m\u001b[0m\n\u001b[0;32m----> 3\u001b[0;31m     \u001b[0;32mreturn\u001b[0m \u001b[0mnumber\u001b[0m \u001b[0;34m*\u001b[0m \u001b[0mnumber\u001b[0m\u001b[0;34m\u001b[0m\u001b[0;34m\u001b[0m\u001b[0m\n\u001b[0m",
            "\u001b[0;31mTypeError\u001b[0m: can't multiply sequence by non-int of type 'str'"
          ]
        }
      ]
    },
    {
      "cell_type": "code",
      "source": [
        "def square1(number: int)-> int:\n",
        "    return number * number"
      ],
      "metadata": {
        "id": "Lxs7Xa31g9Pv"
      },
      "execution_count": null,
      "outputs": []
    },
    {
      "cell_type": "code",
      "source": [
        "square1(8)"
      ],
      "metadata": {
        "colab": {
          "base_uri": "https://localhost:8080/"
        },
        "id": "uwkjEmdwhBsE",
        "outputId": "0f51bdbe-7e71-424b-8184-27709114d20d"
      },
      "execution_count": null,
      "outputs": [
        {
          "output_type": "execute_result",
          "data": {
            "text/plain": [
              "64"
            ]
          },
          "metadata": {},
          "execution_count": 11
        }
      ]
    },
    {
      "cell_type": "code",
      "source": [
        "square1(7.9)"
      ],
      "metadata": {
        "colab": {
          "base_uri": "https://localhost:8080/"
        },
        "id": "Lq9y6Q7ehPQr",
        "outputId": "ceb24e6d-d73f-404b-e63c-8cfef18a25dc"
      },
      "execution_count": null,
      "outputs": [
        {
          "output_type": "execute_result",
          "data": {
            "text/plain": [
              "62.410000000000004"
            ]
          },
          "metadata": {},
          "execution_count": 12
        }
      ]
    },
    {
      "cell_type": "code",
      "source": [
        "#Write a function to count the number of vowels present in a string\"\n",
        "text = \"Today is Holiday. A boy is enjoying an ice-cream.\"\n",
        "def vowelCount(text: str)-> int:\n",
        "    VOWELS = \"aeiouAEIOU\"\n",
        "    vc = 0\n",
        "    for char in text:\n",
        "        if char in VOWELS:\n",
        "            vc += 1\n",
        "    return vc"
      ],
      "metadata": {
        "id": "LNYan8mFh9PC"
      },
      "execution_count": null,
      "outputs": []
    },
    {
      "cell_type": "code",
      "source": [
        "vowelCount(text)"
      ],
      "metadata": {
        "colab": {
          "base_uri": "https://localhost:8080/"
        },
        "id": "ghDSEQiLjdB7",
        "outputId": "bf42d834-bfa9-4b46-f48a-d62fa0271d58"
      },
      "execution_count": null,
      "outputs": [
        {
          "output_type": "execute_result",
          "data": {
            "text/plain": [
              "17"
            ]
          },
          "metadata": {},
          "execution_count": 15
        }
      ]
    },
    {
      "cell_type": "code",
      "source": [
        "#Write a function in python to check the input number is prime or not.\n",
        "def isPrime(num: int)-> bool:\n",
        "    if num < 2:\n",
        "        return False\n",
        "    if num in [2, 3]:\n",
        "        return True\n",
        "    if num % 2 == 0:\n",
        "        return False\n",
        "    r = 3\n",
        "    while r * r <= num:\n",
        "        if num % r == 0:\n",
        "            return False\n",
        "        r += 2\n",
        "    return True"
      ],
      "metadata": {
        "id": "ZUsCqeGhj3ZJ"
      },
      "execution_count": null,
      "outputs": []
    },
    {
      "cell_type": "code",
      "source": [
        "print(isPrime(78))\n",
        "print(isPrime(89))"
      ],
      "metadata": {
        "colab": {
          "base_uri": "https://localhost:8080/"
        },
        "id": "3xxPlnJdmU_1",
        "outputId": "906b7f91-7cdc-4125-f558-3a9c418c3585"
      },
      "execution_count": null,
      "outputs": [
        {
          "output_type": "stream",
          "name": "stdout",
          "text": [
            "False\n",
            "True\n"
          ]
        }
      ]
    },
    {
      "cell_type": "markdown",
      "source": [
        "#Recursion"
      ],
      "metadata": {
        "id": "fBL0k2BfpAp0"
      }
    },
    {
      "cell_type": "code",
      "source": [
        "#check if a number is a power of 2 or not\n",
        "def isPowerOf2(num): #64, 32, 16,\n",
        "    if num == 1:\n",
        "        return True\n",
        "    if num % 2 == 1:\n",
        "        return False\n",
        "    return isPowerOf2(num // 2)"
      ],
      "metadata": {
        "id": "FbqIAmoKo_yK"
      },
      "execution_count": null,
      "outputs": []
    },
    {
      "cell_type": "code",
      "source": [
        "isPowerOf2(64)"
      ],
      "metadata": {
        "colab": {
          "base_uri": "https://localhost:8080/"
        },
        "id": "gmHBIcRyqLBm",
        "outputId": "2f3887b5-04ee-4261-b77e-d91adea53daf"
      },
      "execution_count": null,
      "outputs": [
        {
          "output_type": "execute_result",
          "data": {
            "text/plain": [
              "True"
            ]
          },
          "metadata": {},
          "execution_count": 19
        }
      ]
    },
    {
      "cell_type": "code",
      "source": [
        "isPowerOf2(1026)"
      ],
      "metadata": {
        "colab": {
          "base_uri": "https://localhost:8080/"
        },
        "id": "AgqUXeUmqO2_",
        "outputId": "c3a73c76-3168-4ee6-b982-2b1022ffb8c7"
      },
      "execution_count": null,
      "outputs": [
        {
          "output_type": "execute_result",
          "data": {
            "text/plain": [
              "False"
            ]
          },
          "metadata": {},
          "execution_count": 22
        }
      ]
    },
    {
      "cell_type": "code",
      "source": [
        "#Write a recursive function to check if a given string is palindrome or not.\n",
        "def isPalindrome(text):\n",
        "    if len(text) <= 1:\n",
        "        return True\n",
        "    if text[0] != text[-1]:\n",
        "        return False\n",
        "    return isPalindrome(text[1:-1])"
      ],
      "metadata": {
        "id": "zuSQom6rrY3t"
      },
      "execution_count": null,
      "outputs": []
    },
    {
      "cell_type": "code",
      "source": [
        "isPalindrome(\"peep\")"
      ],
      "metadata": {
        "colab": {
          "base_uri": "https://localhost:8080/"
        },
        "id": "Ny6XpuEHst6U",
        "outputId": "6f68f5bd-6a49-45d4-e638-dc29d8f3ea07"
      },
      "execution_count": null,
      "outputs": [
        {
          "output_type": "execute_result",
          "data": {
            "text/plain": [
              "True"
            ]
          },
          "metadata": {},
          "execution_count": 24
        }
      ]
    },
    {
      "cell_type": "code",
      "source": [
        "isPalindrome(\"madam\")"
      ],
      "metadata": {
        "colab": {
          "base_uri": "https://localhost:8080/"
        },
        "id": "AEUndhuLtIqr",
        "outputId": "dee36f40-20b5-44da-b8fa-298b88391acf"
      },
      "execution_count": null,
      "outputs": [
        {
          "output_type": "execute_result",
          "data": {
            "text/plain": [
              "True"
            ]
          },
          "metadata": {},
          "execution_count": 26
        }
      ]
    },
    {
      "cell_type": "markdown",
      "source": [
        "#Higher Order Functions"
      ],
      "metadata": {
        "id": "FLUxZsFBtcQB"
      }
    },
    {
      "cell_type": "code",
      "source": [
        "#take another function and an iterable as argument\n",
        "#return object as return type\n",
        "#map(), filter(), reduce()\n",
        "#map() & filter() are built-in-functions\n",
        "#reduce() is contained in functools() module"
      ],
      "metadata": {
        "id": "qsO4pY8Dtbqw"
      },
      "execution_count": null,
      "outputs": []
    },
    {
      "cell_type": "markdown",
      "source": [
        "#map()\n",
        "\n",
        "##return a map object\n",
        "\n",
        "## map(function, iterable)"
      ],
      "metadata": {
        "id": "r6eGny2quud4"
      }
    },
    {
      "cell_type": "code",
      "source": [
        "def cube(n):\n",
        "    return n * n * n\n",
        "\n",
        "num = [1, 2, 3, 4, 56, 78, 90]\n",
        "cube_list = map(cube, num)\n",
        "print(cube_list)\n",
        "print(list(cube_list))\n",
        "print(list(cube_list))"
      ],
      "metadata": {
        "colab": {
          "base_uri": "https://localhost:8080/"
        },
        "id": "BnzcZHOyuwGN",
        "outputId": "88e0c9ca-0938-4c11-a01a-c3d87803cdf7"
      },
      "execution_count": null,
      "outputs": [
        {
          "output_type": "stream",
          "name": "stdout",
          "text": [
            "<map object at 0x7f4e1279ec50>\n",
            "[1, 8, 27, 64, 175616, 474552, 729000]\n",
            "[]\n"
          ]
        }
      ]
    },
    {
      "cell_type": "code",
      "source": [
        "x = [1, 2, 3, 4, 5]"
      ],
      "metadata": {
        "id": "AweKlMlxv4S8"
      },
      "execution_count": null,
      "outputs": []
    },
    {
      "cell_type": "code",
      "source": [
        "for mx in map(cube, x):\n",
        "    print(mx)"
      ],
      "metadata": {
        "colab": {
          "base_uri": "https://localhost:8080/"
        },
        "id": "W2uNXTShzCTS",
        "outputId": "0f4c3618-9d29-4d3c-b4bb-3fb0879ff621"
      },
      "execution_count": null,
      "outputs": [
        {
          "output_type": "stream",
          "name": "stdout",
          "text": [
            "1\n",
            "8\n",
            "27\n",
            "64\n",
            "125\n"
          ]
        }
      ]
    },
    {
      "cell_type": "code",
      "source": [
        "mxs = map(cube, x)"
      ],
      "metadata": {
        "id": "YyntZwJszdeO"
      },
      "execution_count": null,
      "outputs": []
    },
    {
      "cell_type": "code",
      "source": [
        "for item in mxs:\n",
        "    print(item)"
      ],
      "metadata": {
        "colab": {
          "base_uri": "https://localhost:8080/"
        },
        "id": "jDoqoNulzn5b",
        "outputId": "32c25e73-7170-498e-a390-622811328ec4"
      },
      "execution_count": null,
      "outputs": [
        {
          "output_type": "stream",
          "name": "stdout",
          "text": [
            "1\n",
            "8\n",
            "27\n",
            "64\n",
            "125\n"
          ]
        }
      ]
    },
    {
      "cell_type": "code",
      "source": [
        "for item in mxs:\n",
        "    print(item)"
      ],
      "metadata": {
        "id": "BkyDmzUvzwkm"
      },
      "execution_count": null,
      "outputs": []
    }
  ]
}