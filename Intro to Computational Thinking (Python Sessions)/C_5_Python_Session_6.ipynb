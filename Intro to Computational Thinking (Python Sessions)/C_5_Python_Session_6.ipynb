{
  "nbformat": 4,
  "nbformat_minor": 0,
  "metadata": {
    "colab": {
      "provenance": []
    },
    "kernelspec": {
      "name": "python3",
      "display_name": "Python 3"
    },
    "language_info": {
      "name": "python"
    }
  },
  "cells": [
    {
      "cell_type": "code",
      "source": [
        "def power_of_5(x):\n",
        "    return x ** 5\n",
        "\n",
        "a = [1, 2, 3, 4, 5]\n",
        "result = map(power_of_5, a)\n",
        "print(list(result))"
      ],
      "metadata": {
        "colab": {
          "base_uri": "https://localhost:8080/"
        },
        "id": "GfqrFsqiM0T0",
        "outputId": "1e0124d3-deac-44f3-989e-22a0a214206b"
      },
      "execution_count": null,
      "outputs": [
        {
          "output_type": "stream",
          "name": "stdout",
          "text": [
            "[1, 32, 243, 1024, 3125]\n"
          ]
        }
      ]
    },
    {
      "cell_type": "code",
      "execution_count": null,
      "metadata": {
        "colab": {
          "base_uri": "https://localhost:8080/"
        },
        "id": "tvgO3MRSFWSa",
        "outputId": "54643a9d-f464-40b9-a5cc-f1583ecf3f33"
      },
      "outputs": [
        {
          "output_type": "stream",
          "name": "stdout",
          "text": [
            "<filter object at 0x7f45ca03ec20>\n",
            "[1, 3, 45, 67, 97]\n"
          ]
        }
      ],
      "source": [
        "#filter(function, iterable)\n",
        "def isOdd(x):\n",
        "    if x % 2 == 1:\n",
        "        return True\n",
        "\n",
        "a = [1, 2, 3, 45, 67, 88, 97, 456]\n",
        "odd = filter(isOdd, a)\n",
        "print(odd)\n",
        "print(list(odd))"
      ]
    },
    {
      "cell_type": "code",
      "source": [
        "#reduce()\n",
        "#functools module\n",
        "#functools.reduce(function, iterable)\n",
        "#Calcute the product of a list.\n",
        "from functools import reduce\n",
        "def multiplication(x, y):\n",
        "    return x * y\n",
        "\n",
        "a = [1, 2, 3, 4, 5, 6, 7, 8, 9]\n",
        "result = reduce(multiplication, a)\n",
        "print(result)"
      ],
      "metadata": {
        "colab": {
          "base_uri": "https://localhost:8080/"
        },
        "id": "mYL5Ew4SPb9v",
        "outputId": "05d529dc-3ef0-45fd-e6d5-cac7d45db287"
      },
      "execution_count": null,
      "outputs": [
        {
          "output_type": "stream",
          "name": "stdout",
          "text": [
            "362880\n"
          ]
        }
      ]
    },
    {
      "cell_type": "code",
      "source": [
        "a = [121,555,63,636]\n",
        "result = list(filter(lambda x: (x == int(\"\".join(reversed(str(x))))), a))\n",
        "print(result)"
      ],
      "metadata": {
        "colab": {
          "base_uri": "https://localhost:8080/"
        },
        "id": "NZ7PSytS_HPT",
        "outputId": "a942ecb6-fe60-4e7b-f491-2d96afaf1e28"
      },
      "execution_count": null,
      "outputs": [
        {
          "output_type": "stream",
          "name": "stdout",
          "text": [
            "[121, 555, 636]\n"
          ]
        }
      ]
    },
    {
      "cell_type": "code",
      "source": [
        "(lambda x: (x == \"\".join(reversed(x))))(\"madam\")"
      ],
      "metadata": {
        "colab": {
          "base_uri": "https://localhost:8080/"
        },
        "id": "WO-3mS7v_PrA",
        "outputId": "91fc66df-7eb1-4deb-dbda-9df4e35b9072"
      },
      "execution_count": null,
      "outputs": [
        {
          "output_type": "execute_result",
          "data": {
            "text/plain": [
              "True"
            ]
          },
          "metadata": {},
          "execution_count": 1
        }
      ]
    },
    {
      "cell_type": "code",
      "source": [
        "(lambda x: (x == \"\".join(reversed(x))))(\"121\")"
      ],
      "metadata": {
        "colab": {
          "base_uri": "https://localhost:8080/"
        },
        "id": "eOaVvMQ8_YE2",
        "outputId": "b74b3fb1-3093-4ce3-afba-69e3d6959a78"
      },
      "execution_count": null,
      "outputs": [
        {
          "output_type": "execute_result",
          "data": {
            "text/plain": [
              "True"
            ]
          },
          "metadata": {},
          "execution_count": 2
        }
      ]
    }
  ]
}